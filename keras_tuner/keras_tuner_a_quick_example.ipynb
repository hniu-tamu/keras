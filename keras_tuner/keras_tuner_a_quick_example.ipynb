{
  "nbformat": 4,
  "nbformat_minor": 0,
  "metadata": {
    "colab": {
      "provenance": [],
      "gpuType": "T4",
      "authorship_tag": "ABX9TyOmFEKGj97qCMeB4Dy295HM",
      "include_colab_link": true
    },
    "kernelspec": {
      "name": "python3",
      "display_name": "Python 3"
    },
    "language_info": {
      "name": "python"
    },
    "accelerator": "GPU"
  },
  "cells": [
    {
      "cell_type": "markdown",
      "metadata": {
        "id": "view-in-github",
        "colab_type": "text"
      },
      "source": [
        "<a href=\"https://colab.research.google.com/github/hniu-tamu/keras/blob/main/keras_tuner/keras_tuner_a_quick_example.ipynb\" target=\"_parent\"><img src=\"https://colab.research.google.com/assets/colab-badge.svg\" alt=\"Open In Colab\"/></a>"
      ]
    },
    {
      "cell_type": "code",
      "execution_count": 1,
      "metadata": {
        "colab": {
          "base_uri": "https://localhost:8080/"
        },
        "id": "9dd8U2Bc9sS4",
        "outputId": "a00ef94c-07ab-4293-f90b-7629f0d3ff81"
      },
      "outputs": [
        {
          "output_type": "stream",
          "name": "stdout",
          "text": [
            "Collecting keras-tuner\n",
            "  Downloading keras_tuner-1.4.6-py3-none-any.whl (128 kB)\n",
            "\u001b[2K     \u001b[90m━━━━━━━━━━━━━━━━━━━━━━━━━━━━━━━━━━━━━━━━\u001b[0m \u001b[32m128.9/128.9 kB\u001b[0m \u001b[31m2.7 MB/s\u001b[0m eta \u001b[36m0:00:00\u001b[0m\n",
            "\u001b[?25hRequirement already satisfied: keras in /usr/local/lib/python3.10/dist-packages (from keras-tuner) (2.15.0)\n",
            "Requirement already satisfied: packaging in /usr/local/lib/python3.10/dist-packages (from keras-tuner) (23.2)\n",
            "Requirement already satisfied: requests in /usr/local/lib/python3.10/dist-packages (from keras-tuner) (2.31.0)\n",
            "Collecting kt-legacy (from keras-tuner)\n",
            "  Downloading kt_legacy-1.0.5-py3-none-any.whl (9.6 kB)\n",
            "Requirement already satisfied: charset-normalizer<4,>=2 in /usr/local/lib/python3.10/dist-packages (from requests->keras-tuner) (3.3.2)\n",
            "Requirement already satisfied: idna<4,>=2.5 in /usr/local/lib/python3.10/dist-packages (from requests->keras-tuner) (3.6)\n",
            "Requirement already satisfied: urllib3<3,>=1.21.1 in /usr/local/lib/python3.10/dist-packages (from requests->keras-tuner) (2.0.7)\n",
            "Requirement already satisfied: certifi>=2017.4.17 in /usr/local/lib/python3.10/dist-packages (from requests->keras-tuner) (2023.11.17)\n",
            "Installing collected packages: kt-legacy, keras-tuner\n",
            "Successfully installed keras-tuner-1.4.6 kt-legacy-1.0.5\n"
          ]
        }
      ],
      "source": [
        "pip install -U keras-tuner"
      ]
    },
    {
      "cell_type": "code",
      "source": [
        "import tensorflow as tf\n",
        "print(tf.__version__)"
      ],
      "metadata": {
        "colab": {
          "base_uri": "https://localhost:8080/"
        },
        "id": "X9bjaS3i934Z",
        "outputId": "c0fd5e2b-3588-43a6-cd5f-a0059b3fad4d"
      },
      "execution_count": 2,
      "outputs": [
        {
          "output_type": "stream",
          "name": "stdout",
          "text": [
            "2.15.0\n"
          ]
        }
      ]
    },
    {
      "cell_type": "code",
      "source": [
        "mnist = tf.keras.datasets.mnist\n",
        "(x_train, y_train), (x_test, y_test) = mnist.load_data()\n",
        "x_train, x_test = x_train/255.0, x_test/255.0\n",
        "print(\"x_train.shape:\", x_train.shape)"
      ],
      "metadata": {
        "colab": {
          "base_uri": "https://localhost:8080/"
        },
        "id": "Rbk07Dtw99OD",
        "outputId": "d742414d-8547-4352-a1b5-41952f8c858d"
      },
      "execution_count": 3,
      "outputs": [
        {
          "output_type": "stream",
          "name": "stdout",
          "text": [
            "Downloading data from https://storage.googleapis.com/tensorflow/tf-keras-datasets/mnist.npz\n",
            "11490434/11490434 [==============================] - 1s 0us/step\n",
            "x_train.shape: (60000, 28, 28)\n"
          ]
        }
      ]
    },
    {
      "cell_type": "code",
      "source": [
        "x_test.shape"
      ],
      "metadata": {
        "colab": {
          "base_uri": "https://localhost:8080/"
        },
        "id": "XK1GzBB5-QUE",
        "outputId": "a665420e-7a98-4c9b-a0f0-ad265ea2376c"
      },
      "execution_count": 4,
      "outputs": [
        {
          "output_type": "execute_result",
          "data": {
            "text/plain": [
              "(10000, 28, 28)"
            ]
          },
          "metadata": {},
          "execution_count": 4
        }
      ]
    },
    {
      "cell_type": "code",
      "source": [
        "from tensorflow import keras\n",
        "from tensorflow.keras import layers\n",
        "from kerastuner.tuners import RandomSearch"
      ],
      "metadata": {
        "colab": {
          "base_uri": "https://localhost:8080/"
        },
        "id": "xlT9hI23-SZ3",
        "outputId": "ffa04388-cfdc-4c4e-d49e-5e2777a78809"
      },
      "execution_count": 5,
      "outputs": [
        {
          "output_type": "stream",
          "name": "stderr",
          "text": [
            "<ipython-input-5-7bb571729a7c>:3: DeprecationWarning: `import kerastuner` is deprecated, please use `import keras_tuner`.\n",
            "  from kerastuner.tuners import RandomSearch\n"
          ]
        }
      ]
    },
    {
      "cell_type": "code",
      "source": [
        "def build_model(hp):\n",
        "  model = keras.Sequential()\n",
        "  model.add(layers.Flatten(input_shape = (28, 28)))\n",
        "\n",
        "  model.add(layers.Dense(units = hp.Int('units',\n",
        "                                        min_value = 32,\n",
        "                                        max_value = 512,\n",
        "                                        step = 128),\n",
        "                         activation = 'relu'))\n",
        "  model.add(layers.Dense(10, activation = 'softmax'))\n",
        "  model.compile(\n",
        "      optimizer = keras.optimizers.Adam(\n",
        "          hp.Choice('learning_rate',\n",
        "                    values = [1e-2, 1e-4])),\n",
        "      loss = 'sparse_categorical_crossentropy',\n",
        "      metrics = ['accuracy']\n",
        "  )\n",
        "  return model"
      ],
      "metadata": {
        "id": "3Ko6eecy-ead"
      },
      "execution_count": 6,
      "outputs": []
    },
    {
      "cell_type": "code",
      "source": [
        "tuner = RandomSearch(\n",
        "    build_model,\n",
        "    objective='val_accuracy',\n",
        "    max_trials = 5,\n",
        "    executions_per_trial = 3,\n",
        "    directory = 'my_dir',\n",
        "    project_name = 'helloworld'\n",
        ")"
      ],
      "metadata": {
        "id": "j4sfg-uVAJMS"
      },
      "execution_count": 7,
      "outputs": []
    },
    {
      "cell_type": "code",
      "source": [
        "tuner.search_space_summary()"
      ],
      "metadata": {
        "colab": {
          "base_uri": "https://localhost:8080/"
        },
        "id": "n_X7dyOhAiJA",
        "outputId": "9ac2bc0d-7520-4acb-f5f7-3fae5280431d"
      },
      "execution_count": 8,
      "outputs": [
        {
          "output_type": "stream",
          "name": "stdout",
          "text": [
            "Search space summary\n",
            "Default search space size: 2\n",
            "units (Int)\n",
            "{'default': None, 'conditions': [], 'min_value': 32, 'max_value': 512, 'step': 128, 'sampling': 'linear'}\n",
            "learning_rate (Choice)\n",
            "{'default': 0.01, 'conditions': [], 'values': [0.01, 0.0001], 'ordered': True}\n"
          ]
        }
      ]
    },
    {
      "cell_type": "code",
      "source": [
        "tuner.search(x_train, y_train,\n",
        "             epochs = 5,\n",
        "             validation_data=(x_test, y_test))"
      ],
      "metadata": {
        "colab": {
          "base_uri": "https://localhost:8080/"
        },
        "id": "AYOQubq6AyKV",
        "outputId": "9016da6e-6dfd-421f-844f-6809cff1f61d"
      },
      "execution_count": 9,
      "outputs": [
        {
          "output_type": "stream",
          "name": "stdout",
          "text": [
            "Trial 5 Complete [00h 01m 56s]\n",
            "val_accuracy: 0.9562666614850363\n",
            "\n",
            "Best val_accuracy So Far: 0.9620999892552694\n",
            "Total elapsed time: 00h 09m 21s\n"
          ]
        }
      ]
    },
    {
      "cell_type": "code",
      "source": [
        "tuner.results_summary()"
      ],
      "metadata": {
        "colab": {
          "base_uri": "https://localhost:8080/"
        },
        "id": "fj_8o3jjBYKv",
        "outputId": "8d3d3d38-91da-430c-b1f1-b56e0a2bc61b"
      },
      "execution_count": 10,
      "outputs": [
        {
          "output_type": "stream",
          "name": "stdout",
          "text": [
            "Results summary\n",
            "Results in my_dir/helloworld\n",
            "Showing 10 best trials\n",
            "Objective(name=\"val_accuracy\", direction=\"max\")\n",
            "\n",
            "Trial 2 summary\n",
            "Hyperparameters:\n",
            "units: 416\n",
            "learning_rate: 0.01\n",
            "Score: 0.9620999892552694\n",
            "\n",
            "Trial 0 summary\n",
            "Hyperparameters:\n",
            "units: 288\n",
            "learning_rate: 0.0001\n",
            "Score: 0.9616333246231079\n",
            "\n",
            "Trial 1 summary\n",
            "Hyperparameters:\n",
            "units: 160\n",
            "learning_rate: 0.01\n",
            "Score: 0.9607999920845032\n",
            "\n",
            "Trial 4 summary\n",
            "Hyperparameters:\n",
            "units: 32\n",
            "learning_rate: 0.01\n",
            "Score: 0.9562666614850363\n",
            "\n",
            "Trial 3 summary\n",
            "Hyperparameters:\n",
            "units: 160\n",
            "learning_rate: 0.0001\n",
            "Score: 0.9534333348274231\n"
          ]
        }
      ]
    },
    {
      "cell_type": "code",
      "source": [
        "def build_model2(hp):\n",
        "  model = keras.Sequential()\n",
        "  model.add(layers.Flatten(input_shape = (28, 28)))\n",
        "\n",
        "  for i in range(hp.Int('layers', 2, 6)):\n",
        "    model.add(layers.Dense(\n",
        "        units = hp.Int('units_' + str(i), 50, 100, step = 10),\n",
        "        activation = hp.Choice('act_' + str(i), ['relu', 'sigmoid'])))\n",
        "\n",
        "  model.add(layers.Dense(10, activation = 'softmax'))\n",
        "  model.compile('adam', 'sparse_categorical_crossentropy', metrics = ['accuracy'])\n",
        "  return model"
      ],
      "metadata": {
        "id": "Ejqil1TDBkFM"
      },
      "execution_count": 17,
      "outputs": []
    },
    {
      "cell_type": "code",
      "source": [
        "tuner2 = RandomSearch(\n",
        "    build_model2,\n",
        "    objective='val_accuracy',\n",
        "    max_trials = 4,\n",
        "    executions_per_trial = 1,\n",
        "    directory = 'my_dir2',\n",
        "    project_name = 'helloworld'\n",
        ")"
      ],
      "metadata": {
        "id": "rHm1npKSDdJQ"
      },
      "execution_count": 18,
      "outputs": []
    },
    {
      "cell_type": "code",
      "source": [
        "tuner2.search_space_summary()"
      ],
      "metadata": {
        "colab": {
          "base_uri": "https://localhost:8080/"
        },
        "id": "brnVPP7LEPGj",
        "outputId": "06288c3c-89fd-4455-f065-291494a6a795"
      },
      "execution_count": 19,
      "outputs": [
        {
          "output_type": "stream",
          "name": "stdout",
          "text": [
            "Search space summary\n",
            "Default search space size: 5\n",
            "layers (Int)\n",
            "{'default': None, 'conditions': [], 'min_value': 2, 'max_value': 6, 'step': 1, 'sampling': 'linear'}\n",
            "units_0 (Int)\n",
            "{'default': None, 'conditions': [], 'min_value': 50, 'max_value': 100, 'step': 10, 'sampling': 'linear'}\n",
            "act_0 (Choice)\n",
            "{'default': 'relu', 'conditions': [], 'values': ['relu', 'sigmoid'], 'ordered': False}\n",
            "units_1 (Int)\n",
            "{'default': None, 'conditions': [], 'min_value': 50, 'max_value': 100, 'step': 10, 'sampling': 'linear'}\n",
            "act_1 (Choice)\n",
            "{'default': 'relu', 'conditions': [], 'values': ['relu', 'sigmoid'], 'ordered': False}\n"
          ]
        }
      ]
    },
    {
      "cell_type": "code",
      "source": [
        "tuner2.search(x_train, y_train,\n",
        "              epochs = 5,\n",
        "              validation_data= (x_test, y_test))"
      ],
      "metadata": {
        "colab": {
          "base_uri": "https://localhost:8080/"
        },
        "id": "YKGo_VJwERh3",
        "outputId": "23ed64e2-a590-4074-e384-e381cc7cc431"
      },
      "execution_count": 20,
      "outputs": [
        {
          "output_type": "stream",
          "name": "stdout",
          "text": [
            "Trial 4 Complete [00h 00m 44s]\n",
            "val_accuracy: 0.9552000164985657\n",
            "\n",
            "Best val_accuracy So Far: 0.9760000109672546\n",
            "Total elapsed time: 00h 02m 47s\n"
          ]
        }
      ]
    },
    {
      "cell_type": "code",
      "source": [
        "tuner2.results_summary()"
      ],
      "metadata": {
        "colab": {
          "base_uri": "https://localhost:8080/"
        },
        "id": "ZudrR1cAJ7ny",
        "outputId": "e52e7652-a279-47ee-8036-45dfc2caacf9"
      },
      "execution_count": 21,
      "outputs": [
        {
          "output_type": "stream",
          "name": "stdout",
          "text": [
            "Results summary\n",
            "Results in my_dir2/helloworld\n",
            "Showing 10 best trials\n",
            "Objective(name=\"val_accuracy\", direction=\"max\")\n",
            "\n",
            "Trial 1 summary\n",
            "Hyperparameters:\n",
            "layers: 2\n",
            "units_0: 80\n",
            "act_0: relu\n",
            "units_1: 100\n",
            "act_1: relu\n",
            "units_2: 80\n",
            "act_2: sigmoid\n",
            "units_3: 60\n",
            "act_3: sigmoid\n",
            "units_4: 70\n",
            "act_4: relu\n",
            "Score: 0.9760000109672546\n",
            "\n",
            "Trial 0 summary\n",
            "Hyperparameters:\n",
            "layers: 5\n",
            "units_0: 70\n",
            "act_0: sigmoid\n",
            "units_1: 60\n",
            "act_1: relu\n",
            "units_2: 50\n",
            "act_2: relu\n",
            "units_3: 50\n",
            "act_3: relu\n",
            "units_4: 50\n",
            "act_4: relu\n",
            "Score: 0.9717000126838684\n",
            "\n",
            "Trial 2 summary\n",
            "Hyperparameters:\n",
            "layers: 6\n",
            "units_0: 90\n",
            "act_0: relu\n",
            "units_1: 70\n",
            "act_1: sigmoid\n",
            "units_2: 100\n",
            "act_2: relu\n",
            "units_3: 60\n",
            "act_3: sigmoid\n",
            "units_4: 80\n",
            "act_4: sigmoid\n",
            "units_5: 50\n",
            "act_5: relu\n",
            "Score: 0.9710999727249146\n",
            "\n",
            "Trial 3 summary\n",
            "Hyperparameters:\n",
            "layers: 6\n",
            "units_0: 50\n",
            "act_0: sigmoid\n",
            "units_1: 90\n",
            "act_1: sigmoid\n",
            "units_2: 60\n",
            "act_2: relu\n",
            "units_3: 80\n",
            "act_3: relu\n",
            "units_4: 100\n",
            "act_4: relu\n",
            "units_5: 60\n",
            "act_5: sigmoid\n",
            "Score: 0.9552000164985657\n"
          ]
        }
      ]
    },
    {
      "cell_type": "code",
      "source": [
        "# Delete the non-empty folder with shutil\n",
        "\n",
        "# import shutil\n",
        "# shutil.rmtree('my_dir2')"
      ],
      "metadata": {
        "id": "YN9Vvn6KKBiv"
      },
      "execution_count": 22,
      "outputs": []
    },
    {
      "cell_type": "code",
      "source": [],
      "metadata": {
        "id": "cGE4EkOjL4tJ"
      },
      "execution_count": 22,
      "outputs": []
    }
  ]
}